{
 "cells": [
  {
   "cell_type": "code",
   "execution_count": 1,
   "metadata": {
    "collapsed": true
   },
   "outputs": [],
   "source": [
    "import itertools\n",
    "import numpy as np\n",
    "import matplotlib.pyplot as plt\n",
    "\n",
    "from sklearn.metrics import confusion_matrix\n",
    "from sklearn.metrics import accuracy_score\n",
    "%matplotlib inline"
   ]
  },
  {
   "cell_type": "code",
   "execution_count": 16,
   "metadata": {
    "collapsed": true
   },
   "outputs": [],
   "source": [
    "def read_tab_sep(file):\n",
    "    data = None\n",
    "    with open(file, 'r') as reader:\n",
    "        data = reader.readlines()[1:]\n",
    "    return data\n",
    "\n",
    "def map_to_values(utterance, reference=False):\n",
    "    items = utterance.replace(\"\\n\", \"\").split(\"\\t\")\n",
    "    \n",
    "    item = None\n",
    "    if reference:\n",
    "        id_ = items[0]\n",
    "        prompt_ = items[1]\n",
    "        wavfile_ = items[2]\n",
    "        transcript_ = items[3]\n",
    "        language_ = items[4]\n",
    "        meaning_ = items[5]\n",
    "        item = {\n",
    "            'id': id_,\n",
    "            'prompt': prompt_,\n",
    "            'wavfile': wavfile_,\n",
    "            'transcript': transcript_,\n",
    "            'language':language_,\n",
    "            'meaning': meaning_\n",
    "        }\n",
    "        \n",
    "    else:\n",
    "        id_ = items[0]\n",
    "        method_ = items[1]\n",
    "        prompt_ = items[2]\n",
    "        transcript_ = items[3]\n",
    "        our_ = items[4]\n",
    "        orig_ = items[5]\n",
    "        item = {\n",
    "            'id': id_,\n",
    "            'method': method_,\n",
    "            'prompt': prompt_,\n",
    "            'transcript': transcript_,\n",
    "            'our':our_,\n",
    "            'original': orig_\n",
    "        }\n",
    "    \n",
    "        \n",
    "    return item\n",
    "\n",
    "def get_items(data, reference=False):\n",
    "    id_map = {}\n",
    "    prompt_map = {}\n",
    "    for entry in data:\n",
    "        item = map_to_values(entry, reference)\n",
    "        id_map[item['id']] = item\n",
    "        prompt = item['prompt']\n",
    "        if prompt in prompt_map:\n",
    "            prompt_map[prompt].append(item)\n",
    "        else:\n",
    "            arr = []\n",
    "            arr.append(item)\n",
    "            prompt_map[prompt] = arr\n",
    "    return id_map, prompt_map"
   ]
  },
  {
   "cell_type": "code",
   "execution_count": 3,
   "metadata": {
    "collapsed": true
   },
   "outputs": [],
   "source": [
    "def conf_matrix(some_id_map):\n",
    "    TP = []\n",
    "    TN = []\n",
    "    FN = []\n",
    "    FP = []\n",
    "    y_true = []\n",
    "    y_pred = []\n",
    "    for key in some_id_map:\n",
    "        item = some_id_map[key]\n",
    "        if item['our'] == 'correct' and item['original'] == 'correct':\n",
    "            TP.append(item)\n",
    "        elif item['our'] == 'incorrect' and item['original'] == 'incorrect':\n",
    "            TN.append(item)\n",
    "        elif item['our'] == 'incorrect' and item['original'] == 'correct':\n",
    "            FN.append(item)\n",
    "        elif item['our'] == 'correct' and item['original'] == 'incorrect':\n",
    "            FP.append(item)\n",
    "    \n",
    "        y_true.append(item['original'])\n",
    "        y_pred.append(item['our'])\n",
    "    \n",
    "    print(accuracy_score(y_true, y_pred))\n",
    "    cnf_matrix = confusion_matrix(y_true, y_pred)\n",
    "    return (cnf_matrix, TP, TN, FN, FP)\n",
    "    \n",
    "def plot_confusion_matrix(cm, classes=['correct', 'incorrect'],\n",
    "                          normalize=False,\n",
    "                          title='Confusion matrix',\n",
    "                          cmap=plt.cm.Blues):\n",
    "    \"\"\"\n",
    "    This function prints and plots the confusion matrix.\n",
    "    Normalization can be applied by setting `normalize=True`.\n",
    "    \"\"\"\n",
    "    plt.imshow(cm, interpolation='nearest', cmap=cmap)\n",
    "    plt.title(title)\n",
    "    plt.colorbar()\n",
    "    tick_marks = np.arange(len(classes))\n",
    "    plt.xticks(tick_marks, classes, rotation=45)\n",
    "    plt.yticks(tick_marks, classes)\n",
    "\n",
    "    if normalize:\n",
    "        cm = cm.astype('float') / cm.sum(axis=1)[:, np.newaxis]\n",
    "        print(\"Normalized confusion matrix\")\n",
    "        print(cm)\n",
    "    else:\n",
    "        print('Confusion matrix, without normalization')\n",
    "        print(cm)\n",
    "\n",
    "    #print(cm)\n",
    "\n",
    "    thresh = cm.max() / 2.\n",
    "    for i, j in itertools.product(range(cm.shape[0]), range(cm.shape[1])):\n",
    "        plt.text(j, i, cm[i, j],\n",
    "                 horizontalalignment=\"center\",\n",
    "                 color=\"white\" if cm[i, j] > thresh else \"black\")\n",
    "\n",
    "    plt.tight_layout()\n",
    "    plt.ylabel('True label')\n",
    "    plt.xlabel('Predicted label')"
   ]
  },
  {
   "cell_type": "markdown",
   "metadata": {},
   "source": [
    "# Language Analytics"
   ]
  },
  {
   "cell_type": "code",
   "execution_count": 4,
   "metadata": {
    "collapsed": false
   },
   "outputs": [
    {
     "name": "stdout",
     "output_type": "stream",
     "text": [
      "0.917670682731\n",
      "Confusion matrix, without normalization\n",
      "[[687  29]\n",
      " [ 53 227]]\n"
     ]
    },
    {
     "data": {
      "image/png": "[encoded data removed]",
      "text/plain": [
       "<matplotlib.figure.Figure at 0x110d7ad30>"
      ]
     },
     "metadata": {},
     "output_type": "display_data"
    }
   ],
   "source": [
    "data = read_tab_sep('Language.tsv')\n",
    "language_id_map, language_prompt_map = get_items(data)\n",
    "language_returns = conf_matrix(language_id_map)\n",
    "cnf_matrix = language_returns[0]\n",
    "plot_confusion_matrix(cnf_matrix, normalize=False, title='Language Confusion Matrix')"
   ]
  },
  {
   "cell_type": "markdown",
   "metadata": {},
   "source": [
    "# Meaning Analytics"
   ]
  },
  {
   "cell_type": "code",
   "execution_count": 5,
   "metadata": {
    "collapsed": false
   },
   "outputs": [],
   "source": [
    "data = read_tab_sep('Meaning.tsv')\n",
    "meaning_id_map, meaning_prompt_map = get_items(data)\n"
   ]
  },
  {
   "cell_type": "code",
   "execution_count": 6,
   "metadata": {
    "collapsed": false
   },
   "outputs": [
    {
     "name": "stdout",
     "output_type": "stream",
     "text": [
      "0.860441767068\n",
      "Confusion matrix, without normalization\n",
      "[[752 123]\n",
      " [ 16 105]]\n"
     ]
    },
    {
     "data": {
      "image/png": "[encoded data removed]",
      "text/plain": [
       "<matplotlib.figure.Figure at 0x114b2a828>"
      ]
     },
     "metadata": {},
     "output_type": "display_data"
    }
   ],
   "source": [
    "meaning_returns  = conf_matrix(meaning_id_map)\n",
    "cnf_matrix = meaning_returns[0]\n",
    "plot_confusion_matrix(cnf_matrix, normalize=False, title='Meaning Confusion Matrix')"
   ]
  },
  {
   "cell_type": "markdown",
   "metadata": {},
   "source": [
    "# Judgement Analytics"
   ]
  },
  {
   "cell_type": "code",
   "execution_count": 8,
   "metadata": {
    "collapsed": false
   },
   "outputs": [],
   "source": [
    "data = read_tab_sep('Judgement.tsv')\n",
    "judgement_id_map, judgement_prompt_map = get_items(data)\n",
    "#actual_true_judgement = get_actual_true_of_judgement(judge)"
   ]
  },
  {
   "cell_type": "code",
   "execution_count": 9,
   "metadata": {
    "collapsed": false
   },
   "outputs": [
    {
     "name": "stdout",
     "output_type": "stream",
     "text": [
      "0.927710843373\n",
      "227\n"
     ]
    }
   ],
   "source": [
    "judgement_returns  = conf_matrix(judgement_id_map)\n",
    "cnf_matrix = judgement_returns[0]\n",
    "judgement_TP = language_returns[1]\n",
    "judgement_TN = language_returns[2]\n",
    "judgement_FN = language_returns[3]\n",
    "judgement_FP = language_returns[4]\n",
    "print(len(judgement_TN))\n",
    "#plot_confusion_matrix(cnf_matrix, normalize=False, title='Judgement Confusion Matrix')"
   ]
  },
  {
   "cell_type": "code",
   "execution_count": 10,
   "metadata": {
    "collapsed": false
   },
   "outputs": [
    {
     "data": {
      "text/plain": [
       "716"
      ]
     },
     "execution_count": 10,
     "metadata": {},
     "output_type": "execute_result"
    }
   ],
   "source": [
    "len(actual_true_judgement)"
   ]
  },
  {
   "cell_type": "markdown",
   "metadata": {},
   "source": [
    "# Reference Judgement"
   ]
  },
  {
   "cell_type": "code",
   "execution_count": 33,
   "metadata": {
    "collapsed": true
   },
   "outputs": [],
   "source": [
    "def get_actual_true_of_judgement(some_id_map):\n",
    "    actual_true = {}\n",
    "    for key in some_id_map:\n",
    "        item = some_id_map[key]\n",
    "        if item['language'] == 'correct' and item['meaning'] =='correct':\n",
    "            actual_true[key] = item           \n",
    "    return actual_true\n",
    "    "
   ]
  },
  {
   "cell_type": "code",
   "execution_count": 34,
   "metadata": {
    "collapsed": false
   },
   "outputs": [],
   "source": [
    "data = read_tab_sep('referencetest_final.csv')\n",
    "reference_id_map, judgement_prompt_map = get_items(data, True)\n",
    "actual_true_reference = get_actual_true_of_judgement(reference_id_map)"
   ]
  },
  {
   "cell_type": "code",
   "execution_count": 36,
   "metadata": {
    "collapsed": false
   },
   "outputs": [
    {
     "data": {
      "text/plain": [
       "716"
      ]
     },
     "execution_count": 36,
     "metadata": {},
     "output_type": "execute_result"
    }
   ],
   "source": [
    "len(actual_true_reference)"
   ]
  },
  {
   "cell_type": "markdown",
   "metadata": {},
   "source": [
    "# Metric"
   ]
  },
  {
   "cell_type": "code",
   "execution_count": 11,
   "metadata": {
    "collapsed": true
   },
   "outputs": [],
   "source": [
    "def get_plain_false_accepts():\n",
    "    counter = 0\n",
    "    for key in meaning_id_map:\n",
    "        item = meaning_id_map[key]\n",
    "        if item['our'] == 'correct':          \n",
    "            language_item = language_id_map[key]\n",
    "            if language_item['our'] == 'incorrect':\n",
    "                counter +=1\n",
    "\n",
    "    return counter"
   ]
  },
  {
   "cell_type": "code",
   "execution_count": 12,
   "metadata": {
    "collapsed": true
   },
   "outputs": [],
   "source": [
    "def get_gross_false_accepts():\n",
    "    counter = 0\n",
    "    for key in meaning_id_map:\n",
    "        item = meaning_id_map[key]\n",
    "        if item['our'] == 'incorrect':\n",
    "            counter += 1\n",
    "    return counter"
   ]
  },
  {
   "cell_type": "code",
   "execution_count": 13,
   "metadata": {
    "collapsed": false
   },
   "outputs": [
    {
     "name": "stdout",
     "output_type": "stream",
     "text": [
      "Correct accept: \t 687\n",
      "Correct reject: \t 227\n",
      "False reject: \t 29\n",
      "Plain False accept: \t 38\n",
      "227\n"
     ]
    }
   ],
   "source": [
    "def get_metrics(TP, TN, FN, FP):\n",
    "    print(\"Correct accept: \\t %s\" % str(len(TP)))\n",
    "    print(\"Correct reject: \\t %s\" % str(len(TN)))\n",
    "    print(\"False reject: \\t %s\" % str(len(FN)))\n",
    "    print(\"Plain False accept: \\t %s\" % str(get_plain_false_accepts()))\n",
    "    PFA = None # Meaning Correct, Language Incorrect\n",
    "    \n",
    "\n",
    "get_metrics(judgement_TP, judgement_TN, judgement_FN, judgement_FP)\n",
    "print(len(judgement_TN))"
   ]
  },
  {
   "cell_type": "code",
   "execution_count": 14,
   "metadata": {
    "collapsed": false
   },
   "outputs": [
    {
     "ename": "NameError",
     "evalue": "name 'get_true_meanings' is not defined",
     "output_type": "error",
     "traceback": [
      "\u001b[0;31m---------------------------------------------------------------------------\u001b[0m",
      "\u001b[0;31mNameError\u001b[0m                                 Traceback (most recent call last)",
      "\u001b[0;32m<ipython-input-14-acf68610936e>\u001b[0m in \u001b[0;36m<module>\u001b[0;34m()\u001b[0m\n\u001b[0;32m----> 1\u001b[0;31m \u001b[0mtrue_meanings\u001b[0m \u001b[0;34m=\u001b[0m \u001b[0mget_true_meanings\u001b[0m\u001b[0;34m(\u001b[0m\u001b[0;34m)\u001b[0m\u001b[0;34m\u001b[0m\u001b[0m\n\u001b[0m",
      "\u001b[0;31mNameError\u001b[0m: name 'get_true_meanings' is not defined"
     ]
    }
   ],
   "source": [
    "true_meanings = get_true_meanings()"
   ]
  },
  {
   "cell_type": "code",
   "execution_count": null,
   "metadata": {
    "collapsed": false
   },
   "outputs": [],
   "source": [
    "true_meanings"
   ]
  },
  {
   "cell_type": "code",
   "execution_count": null,
   "metadata": {
    "collapsed": true
   },
   "outputs": [],
   "source": []
  }
 ],
 "metadata": {
  "kernelspec": {
   "display_name": "Python 3",
   "language": "python",
   "name": "python3"
  },
  "language_info": {
   "codemirror_mode": {
    "name": "ipython",
    "version": 3
   },
   "file_extension": ".py",
   "mimetype": "text/x-python",
   "name": "python",
   "nbconvert_exporter": "python",
   "pygments_lexer": "ipython3",
   "version": "3.5.2"
  }
 },
 "nbformat": 4,
 "nbformat_minor": 2
}
