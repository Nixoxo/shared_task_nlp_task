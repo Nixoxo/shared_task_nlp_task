{
 "cells": [
  {
   "cell_type": "code",
   "execution_count": 1,
   "metadata": {
    "collapsed": true
   },
   "outputs": [],
   "source": [
    "import spacy\n",
    "nlp_en = spacy.load('en')\n",
    "nlp_de = spacy.load('de')\n",
    "from spacy.en import English\n",
    "parser = English()\n",
    "import xml.etree.ElementTree as ET\n"
   ]
  },
  {
   "cell_type": "code",
   "execution_count": 18,
   "metadata": {
    "collapsed": true
   },
   "outputs": [],
   "source": [
    "from spacy.en import English\n",
    "parser = English()"
   ]
  },
  {
   "cell_type": "markdown",
   "metadata": {},
   "source": [
    "## Load Test Data\n"
   ]
  },
  {
   "cell_type": "code",
   "execution_count": 246,
   "metadata": {
    "collapsed": true
   },
   "outputs": [],
   "source": [
    "test_file_csv = \"textProcessing_testKaldi.csv\"\n",
    "test_data = None\n",
    "with open(test_file_csv, 'r') as reader:\n",
    "    test_data = reader.readlines()   "
   ]
  },
  {
   "cell_type": "code",
   "execution_count": 253,
   "metadata": {
    "collapsed": false
   },
   "outputs": [],
   "source": [
    "def prompt_map_test_data():\n",
    "    prompt_map = {}\n",
    "    for item in test_data[1:]:\n",
    "        split = item.replace(\"\\n\", \"\").split(\"\\t\")\n",
    "        prompt = split[1]\n",
    "        \n",
    "        if prompt in prompt_map:\n",
    "            prompt_map[prompt].append({'id': split[0], \"transcript\": split[3]})\n",
    "        else:\n",
    "            arr = []\n",
    "            arr.append({'id':split[0], \"transcript\":split[3]})\n",
    "            prompt_map[prompt] = arr\n",
    "            \n",
    "    return prompt_map\n",
    "prompt_test_map = prompt_map_test_data()"
   ]
  },
  {
   "cell_type": "markdown",
   "metadata": {},
   "source": [
    "## REFERENE GRAMMAR"
   ]
  },
  {
   "cell_type": "code",
   "execution_count": 3,
   "metadata": {
    "collapsed": true
   },
   "outputs": [],
   "source": [
    "def create_prompt_response_map(gram):\n",
    "    prompt_response_map = {}\n",
    "    for prompt_unit in gram:\n",
    "        key = None\n",
    "        responses = []\n",
    "        for prompt in prompt_unit:\n",
    "            if prompt.tag == None:\n",
    "                print(\"None\")\n",
    "            else:\n",
    "                if(prompt.tag == 'prompt'):\n",
    "                    key = prompt.text\n",
    "                elif(prompt.tag == 'response'):\n",
    "                    responses.append(prompt.text)\n",
    "        prompt_response_map[key] = responses\n",
    "    return prompt_response_map\n",
    "\n",
    "def read_grammar_and_create_map(file):\n",
    "    tree = ET.parse(file)\n",
    "    grammar = tree.getroot()\n",
    "    return create_prompt_response_map(grammar)\n",
    "    \n",
    "prompt_response_map = read_grammar_and_create_map('referenceGrammar.xml')"
   ]
  },
  {
   "cell_type": "code",
   "execution_count": 6,
   "metadata": {
    "collapsed": false
   },
   "outputs": [],
   "source": [
    "def get_sag_prompts(prompt_response_map):\n",
    "    sag_prompts = {}\n",
    "    for key in prompt_response_map:\n",
    "        if \"Sag\" in key:\n",
    "            sag_prompts[key] = prompt_response_map[key]\n",
    "    return sag_prompts\n",
    "sag_prompts = get_sag_prompts(prompt_response_map)"
   ]
  },
  {
   "cell_type": "markdown",
   "metadata": {},
   "source": [
    "## NLP"
   ]
  },
  {
   "cell_type": "code",
   "execution_count": 19,
   "metadata": {
    "collapsed": true
   },
   "outputs": [],
   "source": [
    "def nlp_sentence(sentence):\n",
    "    parsed = parser(sentence)\n",
    "    lemmas = []\n",
    "    words = []\n",
    "    tags = []\n",
    "    poss = []\n",
    "    for i, token in enumerate(parsed):\n",
    "        lemma = token.lemma_\n",
    "        words.append(token)\n",
    "        lemmas.append(lemma)\n",
    "        tag = token.tag_\n",
    "        pos = token.tag_\n",
    "        tags.append(tag)\n",
    "        poss.append(pos)\n",
    "    return words, lemmas, tags, poss"
   ]
  },
  {
   "cell_type": "code",
   "execution_count": 20,
   "metadata": {
    "collapsed": false
   },
   "outputs": [],
   "source": [
    "#\n",
    "sentences = sag_prompts['Sag: Ich habe keine Reservation']"
   ]
  },
  {
   "cell_type": "code",
   "execution_count": 102,
   "metadata": {
    "collapsed": true
   },
   "outputs": [],
   "source": [
    "# special case he she it berücksichtigen mit s anhängen\n",
    "def extract_verb_chunk(sentence):\n",
    "    words, lemmas, tags, poss = nlp_sentence(sentence)\n",
    "    verbs_poss = []\n",
    "    verb_pos = None\n",
    "    words_poss = []\n",
    "    word_pos = None\n",
    "    for index in range(0, len(words)):\n",
    "        tag = tags[index]\n",
    "        word = words[index]\n",
    "        \n",
    "        if tag == 'VBP':\n",
    "            if verb_pos == None and word_pos == None:\n",
    "                verb_pos = []\n",
    "                word_pos = []\n",
    "            verb_pos.append(tag)\n",
    "            word_pos.append(word)\n",
    "        elif tag == 'NN' or tag == 'NNS':\n",
    "            verbs_poss.append(verb_pos)\n",
    "            words_poss.append(word_pos)\n",
    "            verb_pos = []\n",
    "            word_pos = []\n",
    "        else:\n",
    "            #print(str(word) + \"\\t\" + str(tag))\n",
    "            if verb_pos == None and word_pos == None:\n",
    "                continue\n",
    "            verb_pos.append(tag)\n",
    "            word_pos.append(word) \n",
    "    if len(verb_pos) > 0:\n",
    "        verbs_poss.append(verb_pos)\n",
    "        words_poss.append(word_pos)\n",
    "    return verbs_poss, words_poss\n",
    "            \n",
    "def extract_verb(poss, words):\n",
    "    one_verb = 0\n",
    "    verb = None\n",
    "    index = None\n",
    "    #for item in range(0, )\n",
    "    for i in range(0, len(poss)):\n",
    "        if poss[i] =='VBP':\n",
    "            one_verb += 1\n",
    "            index = i\n",
    "    \n",
    "    if one_verb == 1 and index != None:\n",
    "        return words[index]\n",
    "    \n",
    "    return None"
   ]
  },
  {
   "cell_type": "code",
   "execution_count": 103,
   "metadata": {
    "collapsed": false
   },
   "outputs": [
    {
     "name": "stdout",
     "output_type": "stream",
     "text": [
      "([['VBP', 'RB']], [[do, not]])\n"
     ]
    }
   ],
   "source": [
    "sent = \"i do not\"\n",
    "print(extract_verb_chunk(sent))\n",
    "#print(nlp_sentence(sent))"
   ]
  },
  {
   "cell_type": "code",
   "execution_count": 104,
   "metadata": {
    "collapsed": false
   },
   "outputs": [],
   "source": [
    "verbs = []\n",
    "words = []\n",
    "dict_verb = []\n",
    "for sentence in sentences:\n",
    "    #_, lemmas, tags, poss = nlp_sentence(sentence)\n",
    "    #print(\"%s \\t %s\" %(sentence, tags))\n",
    "    verb, word = extract_verb_chunk(sentence)\n",
    "    if len(verb)  !=  1 or len(word) != 1: \n",
    "        print(\"emergency\")\n",
    "    words.append(word[0])\n",
    "    verbs.append(verb[0])\n",
    "    #print(sentence)"
   ]
  },
  {
   "cell_type": "code",
   "execution_count": 81,
   "metadata": {
    "collapsed": false
   },
   "outputs": [
    {
     "name": "stdout",
     "output_type": "stream",
     "text": [
      "do\n",
      "do\n",
      "do\n",
      "do\n",
      "do\n",
      "do\n",
      "do\n",
      "do\n",
      "do\n",
      "do\n",
      "do\n",
      "do\n"
     ]
    }
   ],
   "source": [
    "for i in range(0, len(verbs)):\n",
    "    print(extract_verb(verbs[0], words[0]))"
   ]
  },
  {
   "cell_type": "code",
   "execution_count": 105,
   "metadata": {
    "collapsed": false
   },
   "outputs": [
    {
     "name": "stdout",
     "output_type": "stream",
     "text": [
      "['VBP', 'RB']\n",
      "['VBP', 'RB', 'VB', 'DT']\n",
      "['VBP', 'RB']\n",
      "['VBP', 'RB', 'VB', 'DT']\n",
      "['VBP', 'RB']\n",
      "['VBP', 'RB', 'VB', 'DT']\n",
      "['VBP', 'RB']\n",
      "['VBP', 'RB', 'VB', 'DT']\n",
      "['VBP', 'RB']\n",
      "['VBP', 'RB', 'VB', 'DT']\n",
      "['VBP', 'RB']\n",
      "['VBP', 'RB', 'VB', 'DT']\n"
     ]
    }
   ],
   "source": [
    "for verb in verbs:\n",
    "    print(verb)"
   ]
  },
  {
   "cell_type": "code",
   "execution_count": 139,
   "metadata": {
    "collapsed": false
   },
   "outputs": [
    {
     "name": "stdout",
     "output_type": "stream",
     "text": [
      "VBP\n",
      "RB\n",
      "{}\n",
      "[do, not]\n",
      "{'VBP': {}, 'RB': {}}\n",
      "______\n"
     ]
    },
    {
     "data": {
      "text/plain": [
       "{}"
      ]
     },
     "execution_count": 139,
     "metadata": {},
     "output_type": "execute_result"
    }
   ],
   "source": [
    "## TODOD Diese Mapping\n",
    "verb_combination = {}\n",
    "for index in range(0, len(verbs)):\n",
    "    verb = extract_verb(verbs[index], words[index])\n",
    "    if verb in verb_combination:\n",
    "        print(verb)\n",
    "    else:\n",
    "        key = {}\n",
    "        last_key = None\n",
    "        for item in range(0, len(verbs[index])):\n",
    "            print(verbs[index][item])\n",
    "            key[verbs[index][item]] = {}\n",
    "            last_key = key[verbs[index][item]]\n",
    "            #key[item] = \n",
    "        print(last_key)\n",
    "        print(words[index])\n",
    "        print(key)\n",
    "        #verb_combination[verb] = {key:\"test\", \"word\": {words[index]}}\n",
    "        break\n",
    "    print(verb)\n",
    "print(\"______\")\n",
    "verb_combination"
   ]
  },
  {
   "cell_type": "code",
   "execution_count": 124,
   "metadata": {
    "collapsed": false
   },
   "outputs": [],
   "source": [
    "dict_test = {\"a\": {\"b\":{\"c\": \"Hello\"}}}"
   ]
  },
  {
   "cell_type": "code",
   "execution_count": 126,
   "metadata": {
    "collapsed": false
   },
   "outputs": [
    {
     "data": {
      "text/plain": [
       "{'b': {'c': 'Hello'}}"
      ]
     },
     "execution_count": 126,
     "metadata": {},
     "output_type": "execute_result"
    }
   ],
   "source": [
    "dict_test['a']"
   ]
  },
  {
   "cell_type": "code",
   "execution_count": 148,
   "metadata": {
    "collapsed": true
   },
   "outputs": [],
   "source": [
    "dict_test = {}\n",
    "dict_test['a'] = {}"
   ]
  },
  {
   "cell_type": "code",
   "execution_count": 149,
   "metadata": {
    "collapsed": false
   },
   "outputs": [],
   "source": [
    "dict_test['b'] = {}"
   ]
  },
  {
   "cell_type": "code",
   "execution_count": 150,
   "metadata": {
    "collapsed": false
   },
   "outputs": [],
   "source": [
    "dict_test['a'] = {'b':{}}"
   ]
  },
  {
   "cell_type": "code",
   "execution_count": 154,
   "metadata": {
    "collapsed": false
   },
   "outputs": [
    {
     "ename": "SyntaxError",
     "evalue": "invalid syntax (<ipython-input-154-addafdcb2428>, line 1)",
     "output_type": "error",
     "traceback": [
      "\u001b[0;36m  File \u001b[0;32m\"<ipython-input-154-addafdcb2428>\"\u001b[0;36m, line \u001b[0;32m1\u001b[0m\n\u001b[0;31m    dict_test['a'] = {dict_test['a'], 'c': {}}\u001b[0m\n\u001b[0m                                         ^\u001b[0m\n\u001b[0;31mSyntaxError\u001b[0m\u001b[0;31m:\u001b[0m invalid syntax\n"
     ]
    }
   ],
   "source": [
    "dict_test['a'] = {dict_test['a'], 'c': {}}"
   ]
  },
  {
   "cell_type": "code",
   "execution_count": 273,
   "metadata": {
    "collapsed": false
   },
   "outputs": [],
   "source": [
    "def insert(tree, key, value):\n",
    "    if key:\n",
    "        first, rest = key[0], key[1:]\n",
    "        if first not in tree:\n",
    "            tree[first] = {}\n",
    "        insert(tree[first], rest, value)\n",
    "    else:\n",
    "        tree['words'] = value"
   ]
  },
  {
   "cell_type": "code",
   "execution_count": 274,
   "metadata": {
    "collapsed": false
   },
   "outputs": [
    {
     "name": "stdout",
     "output_type": "stream",
     "text": [
      "{'do': {'VBP': {'RB': {'words': [do, n't], 'VB': {'DT': {'words': [do, n't, have, a]}}}}}}\n"
     ]
    }
   ],
   "source": [
    "verb_combination = {}\n",
    "for index in range(0, len(verbs[index])):\n",
    "    #verbs[index], word[index])\n",
    "    verb = extract_verb(verbs[index], words[index])\n",
    "    verb_verbs = []\n",
    "    verb_verbs.append(str(verb))\n",
    "    verb_verbs.extend(verbs[index])\n",
    "    verbs[index]\n",
    "    insert(verb_combination, verb_verbs, words[index])\n",
    "\n",
    "print(verb_combination)"
   ]
  },
  {
   "cell_type": "code",
   "execution_count": 242,
   "metadata": {
    "collapsed": false
   },
   "outputs": [
    {
     "data": {
      "text/plain": [
       "{'VB': {'DT': {'words': [do, n't, have, a]}}, 'words': [do, n't]}"
      ]
     },
     "execution_count": 242,
     "metadata": {},
     "output_type": "execute_result"
    }
   ],
   "source": [
    "verb_combination['do']['VBP']['RB']"
   ]
  },
  {
   "cell_type": "code",
   "execution_count": 243,
   "metadata": {
    "collapsed": false
   },
   "outputs": [
    {
     "data": {
      "text/plain": [
       "['i do not',\n",
       " 'i do not have a reservation',\n",
       " \"i don't\",\n",
       " \"i don't have a reservation\",\n",
       " 'no i do not',\n",
       " 'no i do not have a reservation',\n",
       " \"no i don't\",\n",
       " \"no i don't have a reservation\",\n",
       " 'sorry i do not',\n",
       " 'sorry i do not have a reservation',\n",
       " \"sorry i don't\",\n",
       " \"sorry i don't have a reservation\"]"
      ]
     },
     "execution_count": 243,
     "metadata": {},
     "output_type": "execute_result"
    }
   ],
   "source": [
    "sag_prompts['Sag: Ich habe keine Reservation']"
   ]
  },
  {
   "cell_type": "code",
   "execution_count": 272,
   "metadata": {
    "collapsed": false
   },
   "outputs": [
    {
     "name": "stdout",
     "output_type": "stream",
     "text": [
      "{'id': '3671', 'transcript': 'no i pay is there a reservation'}\n",
      "{'id': '3689', 'transcript': '***  ***  do not have a reservation'}\n",
      "{'id': '3769', 'transcript': '  a tomorrow at nine   '}\n",
      "{'id': '3770', 'transcript': 'i have no reservation'}\n",
      "{'id': '3771', 'transcript': 'i have a   room for have a      room   '}\n",
      "{'id': '3773', 'transcript': \"i haven't got a reservation\"}\n",
      "{'id': '3774', 'transcript': 'i have not a reservation'}\n",
      "{'id': '3776', 'transcript': \"***  i'm mamma have a reservation\"}\n",
      "{'id': '3777', 'transcript': '***  ***   a have a reservation'}\n",
      "{'id': '3779', 'transcript': 'where no i have not have i   have no'}\n",
      "{'id': '3807', 'transcript': \"no i don't have a reservation any\"}\n",
      "{'id': '3888', 'transcript': 'no i  ***  ***  have a      ***    '}\n",
      "{'id': '3986', 'transcript': \"no i don't no i do not have a reservation\"}\n",
      "{'id': '4014', 'transcript': 'i have no reservation'}\n",
      "{'id': '4015', 'transcript': \"no i don't no i do not have a reservation\"}\n",
      "{'id': '4186', 'transcript': 'no i     am good'}\n",
      "{'id': '4187', 'transcript': 'no i have no reservation'}\n",
      "{'id': '4188', 'transcript': 'no i    ***     am a reservation'}\n",
      "{'id': '4236', 'transcript': 'i   ***   have a reservation'}\n",
      "{'id': '4237', 'transcript': \"i haven't a reservation\"}\n",
      "{'id': '4238', 'transcript': \"i don't have a reservation is bern\"}\n",
      "{'id': '4239', 'transcript': \"i don't where is bern   \"}\n",
      "{'id': '4240', 'transcript': 'i have a   thursday and    '}\n",
      "{'id': '4241', 'transcript': 'i have not a reservation'}\n",
      "{'id': '4247', 'transcript': \"the i don't have a reservation i pay by is my name is    \"}\n",
      "{'id': '4387', 'transcript': 'i have not a reservation'}\n",
      "{'id': '4389', 'transcript': 'i want a reservation'}\n",
      "{'id': '4390', 'transcript': 'i do not  ***  reservation'}\n",
      "{'id': '4392', 'transcript': 'i have not a reservation'}\n",
      "{'id': '4465', 'transcript': 'i have  ***  no reservation'}\n",
      "{'id': '4185', 'transcript': \" i don't know \"}\n",
      "{'id': '4243', 'transcript': '***  row euros hotel bar '}\n",
      "{'id': '4245', 'transcript': 'you are a   room '}\n",
      "{'id': '4246', 'transcript': 'the apple pie  '}\n",
      "{'id': '4248', 'transcript': 'where is there a      like to london'}\n",
      "{'id': '4249', 'transcript': '     ***      ***  ***   ***  cirque are there a '}\n",
      "{'id': '4388', 'transcript': '***   can buy for the silver level'}\n",
      "{'id': '4394', 'transcript': 'the can i    want a   soap of the silver level'}\n",
      "{'id': '4395', 'transcript': ' do can i    got help at the silver level'}\n",
      "{'id': '4466', 'transcript': \" i don't have a   room for the silver level\"}\n"
     ]
    }
   ],
   "source": [
    "thiskey = \"Sag: Ich habe keine Reservation\"\n",
    "for item in prompt_test_map[thiskey]:\n",
    "    accept = False\n",
    "    if item['transcript'] not in prompt_response_map[thiskey]:\n",
    "        print(item)"
   ]
  },
  {
   "cell_type": "code",
   "execution_count": 271,
   "metadata": {
    "collapsed": false
   },
   "outputs": [
    {
     "data": {
      "text/plain": [
       "461"
      ]
     },
     "execution_count": 271,
     "metadata": {},
     "output_type": "execute_result"
    }
   ],
   "source": [
    "counter = 0\n",
    "with open(\"reference_grammar_test.csv\", 'w') as writer:\n",
    "    for prompt_unit in prompt_test_map:\n",
    "        for sentence in prompt_test_map[prompt_unit]:\n",
    "            if \"***\" in sentence['transcript']:\n",
    "                continue\n",
    "            if sentence['transcript'] not in prompt_response_map[prompt_unit]:\n",
    "                counter +=1\n",
    "                writer.write(prompt_unit + \"\\t\" + sentence['transcript'] + \"\\n\")\n",
    "        \n",
    "counter"
   ]
  },
  {
   "cell_type": "code",
   "execution_count": null,
   "metadata": {
    "collapsed": true
   },
   "outputs": [],
   "source": []
  }
 ],
 "metadata": {
  "kernelspec": {
   "display_name": "Python 3",
   "language": "python",
   "name": "python3"
  },
  "language_info": {
   "codemirror_mode": {
    "name": "ipython",
    "version": 3
   },
   "file_extension": ".py",
   "mimetype": "text/x-python",
   "name": "python",
   "nbconvert_exporter": "python",
   "pygments_lexer": "ipython3",
   "version": "3.5.2"
  }
 },
 "nbformat": 4,
 "nbformat_minor": 2
}
